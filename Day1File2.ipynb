{
 "cells": [
  {
   "cell_type": "code",
   "execution_count": 1,
   "id": "fbd82961-f2da-466a-9720-96bd33a63d86",
   "metadata": {},
   "outputs": [],
   "source": [
    "lstVer1 = [x for x in range(10,50,4)]"
   ]
  },
  {
   "cell_type": "code",
   "execution_count": 2,
   "id": "ba75be23-5f98-4a7b-9da8-0e07c3b59f19",
   "metadata": {},
   "outputs": [
    {
     "name": "stdout",
     "output_type": "stream",
     "text": [
      "[10, 14, 18, 22, 26, 30, 34, 38, 42, 46]\n"
     ]
    }
   ],
   "source": [
    "print(lstVer1)"
   ]
  },
  {
   "cell_type": "code",
   "execution_count": 3,
   "id": "fbb681e9-fb42-444d-8472-eb1d6ef4541d",
   "metadata": {},
   "outputs": [
    {
     "name": "stdout",
     "output_type": "stream",
     "text": [
      "True\n"
     ]
    }
   ],
   "source": [
    "print(26 in lstVer1)"
   ]
  },
  {
   "cell_type": "code",
   "execution_count": 15,
   "id": "a993fbfd-e311-456b-a589-7b891eec53e9",
   "metadata": {},
   "outputs": [
    {
     "name": "stdout",
     "output_type": "stream",
     "text": [
      "We found the item in the list :: 4\n"
     ]
    }
   ],
   "source": [
    "for i in lstVer1:\n",
    "    if i == 26 :\n",
    "        print(f\"We found the item in the list :: {lstVer1.index(i)}\")"
   ]
  },
  {
   "cell_type": "code",
   "execution_count": null,
   "id": "babd3a48-2b44-481f-a6b2-84abc2bae2f8",
   "metadata": {},
   "outputs": [],
   "source": []
  }
 ],
 "metadata": {
  "kernelspec": {
   "display_name": "Python 3 (ipykernel)",
   "language": "python",
   "name": "python3"
  },
  "language_info": {
   "codemirror_mode": {
    "name": "ipython",
    "version": 3
   },
   "file_extension": ".py",
   "mimetype": "text/x-python",
   "name": "python",
   "nbconvert_exporter": "python",
   "pygments_lexer": "ipython3",
   "version": "3.12.4"
  }
 },
 "nbformat": 4,
 "nbformat_minor": 5
}
