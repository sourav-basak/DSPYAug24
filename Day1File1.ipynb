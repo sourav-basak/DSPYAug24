{
  "cells": [
    {
      "cell_type": "markdown",
      "metadata": {
        "id": "view-in-github",
        "colab_type": "text"
      },
      "source": [
        "<a href=\"https://colab.research.google.com/github/sourav-basak/DSPYAug24/blob/main/Day1File1.ipynb\" target=\"_parent\"><img src=\"https://colab.research.google.com/assets/colab-badge.svg\" alt=\"Open In Colab\"/></a>"
      ]
    },
    {
      "cell_type": "code",
      "execution_count": 1,
      "id": "86f34010-503d-4981-9511-95d84ea81751",
      "metadata": {
        "id": "86f34010-503d-4981-9511-95d84ea81751"
      },
      "outputs": [],
      "source": [
        "intVar1 = 10"
      ]
    },
    {
      "cell_type": "code",
      "execution_count": 2,
      "id": "754bcee8-0f05-488b-8886-a30405af9f5d",
      "metadata": {
        "id": "754bcee8-0f05-488b-8886-a30405af9f5d"
      },
      "outputs": [],
      "source": [
        "strVar2 = \"Sourav Basak\""
      ]
    },
    {
      "cell_type": "code",
      "source": [],
      "metadata": {
        "id": "HtyQzDg82Nzk"
      },
      "id": "HtyQzDg82Nzk",
      "execution_count": null,
      "outputs": []
    },
    {
      "cell_type": "code",
      "execution_count": 3,
      "id": "b9b6baa5-7634-4b1a-91ea-6c9f83498b42",
      "metadata": {
        "id": "b9b6baa5-7634-4b1a-91ea-6c9f83498b42"
      },
      "outputs": [],
      "source": [
        "fltVar3 = 10.55"
      ]
    },
    {
      "cell_type": "code",
      "execution_count": 4,
      "id": "1e15914b-b22e-49f0-b6a7-7ced11df2914",
      "metadata": {
        "colab": {
          "base_uri": "https://localhost:8080/"
        },
        "id": "1e15914b-b22e-49f0-b6a7-7ced11df2914",
        "outputId": "d2c9fa9c-17eb-4f13-fcb4-cb6d66da3229"
      },
      "outputs": [
        {
          "output_type": "stream",
          "name": "stdout",
          "text": [
            "<class 'int'>\n"
          ]
        }
      ],
      "source": [
        "print(type(intVar1))"
      ]
    },
    {
      "cell_type": "code",
      "execution_count": 5,
      "id": "f33482f7-3392-4a3b-ac4e-07cd48c0eba7",
      "metadata": {
        "colab": {
          "base_uri": "https://localhost:8080/"
        },
        "id": "f33482f7-3392-4a3b-ac4e-07cd48c0eba7",
        "outputId": "c99f02e9-eb69-4101-e9b3-3b72cafcb3fb"
      },
      "outputs": [
        {
          "output_type": "stream",
          "name": "stdout",
          "text": [
            "Sourav Basak\n"
          ]
        }
      ],
      "source": [
        "print(strVar2)"
      ]
    },
    {
      "cell_type": "code",
      "execution_count": 6,
      "id": "b17f93c4-5e82-4c7f-8861-8e4628f1cfc2",
      "metadata": {
        "colab": {
          "base_uri": "https://localhost:8080/"
        },
        "id": "b17f93c4-5e82-4c7f-8861-8e4628f1cfc2",
        "outputId": "28bae206-8ad2-4bf9-a41c-ef5f1462dca0"
      },
      "outputs": [
        {
          "output_type": "stream",
          "name": "stdout",
          "text": [
            "<class 'str'>\n"
          ]
        }
      ],
      "source": [
        "print(type(strVar2))"
      ]
    },
    {
      "cell_type": "code",
      "execution_count": 7,
      "id": "cd05efda-450b-49ca-bb63-bd323efc2e5d",
      "metadata": {
        "colab": {
          "base_uri": "https://localhost:8080/"
        },
        "id": "cd05efda-450b-49ca-bb63-bd323efc2e5d",
        "outputId": "525b4beb-c886-4ee0-c3e5-99f389bb064e"
      },
      "outputs": [
        {
          "output_type": "stream",
          "name": "stdout",
          "text": [
            "<class 'float'>\n"
          ]
        }
      ],
      "source": [
        "print(type(fltVar3))"
      ]
    },
    {
      "cell_type": "code",
      "execution_count": 8,
      "id": "fdcb4958-d6cb-4aca-bed6-49fc5bcdbf8d",
      "metadata": {
        "id": "fdcb4958-d6cb-4aca-bed6-49fc5bcdbf8d"
      },
      "outputs": [],
      "source": [
        "strVar2 = 20"
      ]
    },
    {
      "cell_type": "code",
      "execution_count": 9,
      "id": "d4c971e8-d505-4305-a0ff-eb4e036d4568",
      "metadata": {
        "colab": {
          "base_uri": "https://localhost:8080/"
        },
        "id": "d4c971e8-d505-4305-a0ff-eb4e036d4568",
        "outputId": "156b3f78-3f74-437a-c022-af4b71ef76e0"
      },
      "outputs": [
        {
          "output_type": "stream",
          "name": "stdout",
          "text": [
            "<class 'int'>\n"
          ]
        }
      ],
      "source": [
        "print(type(strVar2))"
      ]
    },
    {
      "cell_type": "code",
      "execution_count": 10,
      "id": "df444f82-2765-475d-96a9-7b78252d47ea",
      "metadata": {
        "id": "df444f82-2765-475d-96a9-7b78252d47ea"
      },
      "outputs": [],
      "source": [
        "intVar1 = {\"My\", \"Name\", \"is\", \"sourav\"}"
      ]
    },
    {
      "cell_type": "code",
      "execution_count": 11,
      "id": "d51aedbd-c4c6-4ae3-8d7a-dbc4eff2a4f2",
      "metadata": {
        "colab": {
          "base_uri": "https://localhost:8080/"
        },
        "id": "d51aedbd-c4c6-4ae3-8d7a-dbc4eff2a4f2",
        "outputId": "797cbef6-f16f-498e-88a5-7bb233ecdb50"
      },
      "outputs": [
        {
          "output_type": "stream",
          "name": "stdout",
          "text": [
            "<class 'set'>\n"
          ]
        }
      ],
      "source": [
        "print(type(intVar1))"
      ]
    },
    {
      "cell_type": "code",
      "execution_count": 12,
      "id": "f57d664a-968b-461d-85f7-546693e922e7",
      "metadata": {
        "colab": {
          "base_uri": "https://localhost:8080/"
        },
        "id": "f57d664a-968b-461d-85f7-546693e922e7",
        "outputId": "f6df20b4-a7e0-41ee-d2cb-a2bbd7ba53b9"
      },
      "outputs": [
        {
          "output_type": "stream",
          "name": "stdout",
          "text": [
            "{'Name', 'is', 'My', 'sourav'}\n"
          ]
        }
      ],
      "source": [
        "print(intVar1)"
      ]
    },
    {
      "cell_type": "code",
      "execution_count": 13,
      "id": "268cd253-cbd8-4542-b00d-6070ca29a66f",
      "metadata": {
        "id": "268cd253-cbd8-4542-b00d-6070ca29a66f"
      },
      "outputs": [],
      "source": [
        "tupVar4 = tuple(intVar1)"
      ]
    },
    {
      "cell_type": "code",
      "execution_count": 14,
      "id": "a4614c6e-4737-486a-a63f-c9768bd810d3",
      "metadata": {
        "colab": {
          "base_uri": "https://localhost:8080/"
        },
        "id": "a4614c6e-4737-486a-a63f-c9768bd810d3",
        "outputId": "63f31980-6815-451c-852d-8f63953c0df3"
      },
      "outputs": [
        {
          "output_type": "stream",
          "name": "stdout",
          "text": [
            "('Name', 'is', 'My', 'sourav')\n"
          ]
        }
      ],
      "source": [
        "print(tupVar4)"
      ]
    },
    {
      "cell_type": "code",
      "execution_count": 15,
      "id": "a004cba4-0d6d-41d7-9cde-5b9749e1988f",
      "metadata": {
        "id": "a004cba4-0d6d-41d7-9cde-5b9749e1988f"
      },
      "outputs": [],
      "source": [
        "lstVer5 = [x for x in range(20,100,5)]"
      ]
    },
    {
      "cell_type": "code",
      "execution_count": 16,
      "id": "e3f0f98e-ce33-4228-9b8d-43d29b645def",
      "metadata": {
        "colab": {
          "base_uri": "https://localhost:8080/"
        },
        "id": "e3f0f98e-ce33-4228-9b8d-43d29b645def",
        "outputId": "0d882035-a217-4e17-d44a-420eaac9a29c"
      },
      "outputs": [
        {
          "output_type": "stream",
          "name": "stdout",
          "text": [
            "[20, 25, 30, 35, 40, 45, 50, 55, 60, 65, 70, 75, 80, 85, 90, 95]\n"
          ]
        }
      ],
      "source": [
        "print(lstVer5)"
      ]
    },
    {
      "cell_type": "code",
      "execution_count": 17,
      "id": "fe21126e-1371-4c87-94b0-04f989cd5d21",
      "metadata": {
        "colab": {
          "base_uri": "https://localhost:8080/"
        },
        "id": "fe21126e-1371-4c87-94b0-04f989cd5d21",
        "outputId": "1fd61530-b0fa-4448-dcc3-f04e31cca821"
      },
      "outputs": [
        {
          "output_type": "stream",
          "name": "stdout",
          "text": [
            "<class 'list'>\n"
          ]
        }
      ],
      "source": [
        "print(type(lstVer5))"
      ]
    },
    {
      "cell_type": "code",
      "execution_count": 18,
      "id": "bb110f5e-c55d-40cd-9720-2410328f1ee4",
      "metadata": {
        "colab": {
          "base_uri": "https://localhost:8080/"
        },
        "id": "bb110f5e-c55d-40cd-9720-2410328f1ee4",
        "outputId": "974de641-0b40-4ba6-cfe6-48fdfe1b4fae"
      },
      "outputs": [
        {
          "name": "stdout",
          "output_type": "stream",
          "text": [
            "Enter the Name :Sourav\n",
            "Enter the Age: 44\n",
            "Enter the Math Marks:45\n",
            "Enter the Physics Marks:66\n",
            "Enter the Computer Sc. Marks:90\n"
          ]
        }
      ],
      "source": [
        "\n",
        "name = input(\"Enter the Name :\")\n",
        "age = input(\"Enter the Age: \")\n",
        "marksMath = int(input(\"Enter the Math Marks:\"))\n",
        "marksPhys = int(input(\"Enter the Physics Marks:\"))\n",
        "marksComp = int(input(\"Enter the Computer Sc. Marks:\"))"
      ]
    },
    {
      "cell_type": "code",
      "execution_count": 19,
      "id": "49a2df7c-5c33-4c3b-bf99-793763c74da5",
      "metadata": {
        "colab": {
          "base_uri": "https://localhost:8080/"
        },
        "id": "49a2df7c-5c33-4c3b-bf99-793763c74da5",
        "outputId": "0ce81852-4797-4d88-a966-2e39d27b33a4"
      },
      "outputs": [
        {
          "output_type": "stream",
          "name": "stdout",
          "text": [
            "67.0\n"
          ]
        }
      ],
      "source": [
        "marksPercentage = (marksMath+marksPhys+marksComp)/3\n",
        "print(marksPercentage)"
      ]
    },
    {
      "cell_type": "code",
      "execution_count": 20,
      "id": "a063d11b-ff42-4cf5-996d-4cb38b11eb39",
      "metadata": {
        "colab": {
          "base_uri": "https://localhost:8080/"
        },
        "id": "a063d11b-ff42-4cf5-996d-4cb38b11eb39",
        "outputId": "70c39c5b-94bc-48e1-d946-9d7ca177a031"
      },
      "outputs": [
        {
          "output_type": "stream",
          "name": "stdout",
          "text": [
            "Sourav your grade is C\n"
          ]
        }
      ],
      "source": [
        "if marksPercentage >= 90:\n",
        "    print(name+\" your grade is A+\")\n",
        "elif marksPercentage >= 80 and marksPercentage < 90:\n",
        "    print(name+\" your grade is A\")\n",
        "elif marksPercentage >= 70 and marksPercentage < 80:\n",
        "    print(name+\" your grade is B\")\n",
        "elif marksPercentage >= 65 and marksPercentage < 70:\n",
        "    print(name+\" your grade is C\")"
      ]
    },
    {
      "cell_type": "code",
      "execution_count": 20,
      "id": "c7ac4377-5ba0-4488-8aab-470a3d551655",
      "metadata": {
        "id": "c7ac4377-5ba0-4488-8aab-470a3d551655"
      },
      "outputs": [],
      "source": []
    }
  ],
  "metadata": {
    "kernelspec": {
      "display_name": "Python 3",
      "name": "python3"
    },
    "language_info": {
      "codemirror_mode": {
        "name": "ipython",
        "version": 3
      },
      "file_extension": ".py",
      "mimetype": "text/x-python",
      "name": "python",
      "nbconvert_exporter": "python",
      "pygments_lexer": "ipython3",
      "version": "3.12.4"
    },
    "colab": {
      "provenance": [],
      "include_colab_link": true
    }
  },
  "nbformat": 4,
  "nbformat_minor": 5
}