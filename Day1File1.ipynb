{
 "cells": [
  {
   "cell_type": "code",
   "execution_count": 1,
   "id": "86f34010-503d-4981-9511-95d84ea81751",
   "metadata": {},
   "outputs": [],
   "source": [
    "intVar1 = 10"
   ]
  },
  {
   "cell_type": "code",
   "execution_count": 2,
   "id": "754bcee8-0f05-488b-8886-a30405af9f5d",
   "metadata": {},
   "outputs": [],
   "source": [
    "strVar2 = \"Sourav Basak\""
   ]
  },
  {
   "cell_type": "code",
   "execution_count": 3,
   "id": "b9b6baa5-7634-4b1a-91ea-6c9f83498b42",
   "metadata": {},
   "outputs": [],
   "source": [
    "fltVar3 = 10.55"
   ]
  },
  {
   "cell_type": "code",
   "execution_count": 4,
   "id": "1e15914b-b22e-49f0-b6a7-7ced11df2914",
   "metadata": {},
   "outputs": [
    {
     "name": "stdout",
     "output_type": "stream",
     "text": [
      "<class 'int'>\n"
     ]
    }
   ],
   "source": [
    "print(type(intVar1))"
   ]
  },
  {
   "cell_type": "code",
   "execution_count": 5,
   "id": "f33482f7-3392-4a3b-ac4e-07cd48c0eba7",
   "metadata": {},
   "outputs": [
    {
     "name": "stdout",
     "output_type": "stream",
     "text": [
      "Sourav Basak\n"
     ]
    }
   ],
   "source": [
    "print(strVar2)"
   ]
  },
  {
   "cell_type": "code",
   "execution_count": 6,
   "id": "b17f93c4-5e82-4c7f-8861-8e4628f1cfc2",
   "metadata": {},
   "outputs": [
    {
     "name": "stdout",
     "output_type": "stream",
     "text": [
      "<class 'str'>\n"
     ]
    }
   ],
   "source": [
    "print(type(strVar2))"
   ]
  },
  {
   "cell_type": "code",
   "execution_count": 7,
   "id": "cd05efda-450b-49ca-bb63-bd323efc2e5d",
   "metadata": {},
   "outputs": [
    {
     "name": "stdout",
     "output_type": "stream",
     "text": [
      "<class 'float'>\n"
     ]
    }
   ],
   "source": [
    "print(type(fltVar3))"
   ]
  },
  {
   "cell_type": "code",
   "execution_count": 8,
   "id": "fdcb4958-d6cb-4aca-bed6-49fc5bcdbf8d",
   "metadata": {},
   "outputs": [],
   "source": [
    "strVar2 = 20"
   ]
  },
  {
   "cell_type": "code",
   "execution_count": 9,
   "id": "d4c971e8-d505-4305-a0ff-eb4e036d4568",
   "metadata": {},
   "outputs": [
    {
     "name": "stdout",
     "output_type": "stream",
     "text": [
      "<class 'int'>\n"
     ]
    }
   ],
   "source": [
    "print(type(strVar2))"
   ]
  },
  {
   "cell_type": "code",
   "execution_count": 10,
   "id": "df444f82-2765-475d-96a9-7b78252d47ea",
   "metadata": {},
   "outputs": [],
   "source": [
    "intVar1 = {\"My\", \"Name\", \"is\", \"sourav\"}"
   ]
  },
  {
   "cell_type": "code",
   "execution_count": 11,
   "id": "d51aedbd-c4c6-4ae3-8d7a-dbc4eff2a4f2",
   "metadata": {},
   "outputs": [
    {
     "name": "stdout",
     "output_type": "stream",
     "text": [
      "<class 'set'>\n"
     ]
    }
   ],
   "source": [
    "print(type(intVar1))"
   ]
  },
  {
   "cell_type": "code",
   "execution_count": 13,
   "id": "f57d664a-968b-461d-85f7-546693e922e7",
   "metadata": {},
   "outputs": [
    {
     "name": "stdout",
     "output_type": "stream",
     "text": [
      "{'My', 'is', 'Name', 'sourav'}\n"
     ]
    }
   ],
   "source": [
    "print(intVar1)"
   ]
  },
  {
   "cell_type": "code",
   "execution_count": 14,
   "id": "268cd253-cbd8-4542-b00d-6070ca29a66f",
   "metadata": {},
   "outputs": [],
   "source": [
    "tupVar4 = tuple(intVar1)"
   ]
  },
  {
   "cell_type": "code",
   "execution_count": 15,
   "id": "a4614c6e-4737-486a-a63f-c9768bd810d3",
   "metadata": {},
   "outputs": [
    {
     "name": "stdout",
     "output_type": "stream",
     "text": [
      "('My', 'is', 'Name', 'sourav')\n"
     ]
    }
   ],
   "source": [
    "print(tupVar4)"
   ]
  },
  {
   "cell_type": "code",
   "execution_count": 33,
   "id": "a004cba4-0d6d-41d7-9cde-5b9749e1988f",
   "metadata": {},
   "outputs": [],
   "source": [
    "lstVer5 = [x for x in range(20,100,5)]"
   ]
  },
  {
   "cell_type": "code",
   "execution_count": 34,
   "id": "e3f0f98e-ce33-4228-9b8d-43d29b645def",
   "metadata": {},
   "outputs": [
    {
     "name": "stdout",
     "output_type": "stream",
     "text": [
      "[20, 25, 30, 35, 40, 45, 50, 55, 60, 65, 70, 75, 80, 85, 90, 95]\n"
     ]
    }
   ],
   "source": [
    "print(lstVer5)"
   ]
  },
  {
   "cell_type": "code",
   "execution_count": 35,
   "id": "fe21126e-1371-4c87-94b0-04f989cd5d21",
   "metadata": {},
   "outputs": [
    {
     "name": "stdout",
     "output_type": "stream",
     "text": [
      "<class 'list'>\n"
     ]
    }
   ],
   "source": [
    "print(type(lstVer5))"
   ]
  },
  {
   "cell_type": "code",
   "execution_count": 41,
   "id": "bb110f5e-c55d-40cd-9720-2410328f1ee4",
   "metadata": {},
   "outputs": [
    {
     "name": "stdin",
     "output_type": "stream",
     "text": [
      "Enter the Name : Sourav\n",
      "Enter the Age:  77\n",
      "Enter the Math Marks: 77\n",
      "Enter the Physics Marks: 80\n",
      "Enter the Computer Sc. Marks: 85\n"
     ]
    }
   ],
   "source": [
    "name = input(\"Enter the Name :\")\n",
    "age = input(\"Enter the Age: \")\n",
    "marksMath = int(input(\"Enter the Math Marks:\"))\n",
    "marksPhys = int(input(\"Enter the Physics Marks:\"))\n",
    "marksComp = int(input(\"Enter the Computer Sc. Marks:\"))"
   ]
  },
  {
   "cell_type": "code",
   "execution_count": 42,
   "id": "49a2df7c-5c33-4c3b-bf99-793763c74da5",
   "metadata": {},
   "outputs": [
    {
     "name": "stdout",
     "output_type": "stream",
     "text": [
      "80.66666666666667\n"
     ]
    }
   ],
   "source": [
    "marksPercentage = (marksMath+marksPhys+marksComp)/3\n",
    "print(marksPercentage)"
   ]
  },
  {
   "cell_type": "code",
   "execution_count": 43,
   "id": "a063d11b-ff42-4cf5-996d-4cb38b11eb39",
   "metadata": {},
   "outputs": [
    {
     "name": "stdout",
     "output_type": "stream",
     "text": [
      "Sourav your grade is A\n"
     ]
    }
   ],
   "source": [
    "if marksPercentage >= 90:\n",
    "    print(name+\" your grade is A+\")\n",
    "elif marksPercentage >= 80 and marksPercentage < 90:\n",
    "    print(name+\" your grade is A\")\n",
    "elif marksPercentage >= 70 and marksPercentage < 80:\n",
    "    print(name+\" your grade is B\")\n",
    "elif marksPercentage >= 65 and marksPercentage < 70:\n",
    "    print(name+\" your grade is C\")"
   ]
  },
  {
   "cell_type": "code",
   "execution_count": null,
   "id": "c7ac4377-5ba0-4488-8aab-470a3d551655",
   "metadata": {},
   "outputs": [],
   "source": []
  }
 ],
 "metadata": {
  "kernelspec": {
   "display_name": "Python 3 (ipykernel)",
   "language": "python",
   "name": "python3"
  },
  "language_info": {
   "codemirror_mode": {
    "name": "ipython",
    "version": 3
   },
   "file_extension": ".py",
   "mimetype": "text/x-python",
   "name": "python",
   "nbconvert_exporter": "python",
   "pygments_lexer": "ipython3",
   "version": "3.12.4"
  }
 },
 "nbformat": 4,
 "nbformat_minor": 5
}
